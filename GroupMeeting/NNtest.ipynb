{
 "cells": [
  {
   "cell_type": "markdown",
   "metadata": {},
   "source": [
    "# Test for neural network"
   ]
  },
  {
   "cell_type": "code",
   "execution_count": 4,
   "metadata": {},
   "outputs": [],
   "source": [
    "import numpy as np\n",
    "import matplotlib.pyplot as plt\n"
   ]
  },
  {
   "cell_type": "code",
   "execution_count": 14,
   "metadata": {},
   "outputs": [
    {
     "name": "stdout",
     "output_type": "stream",
     "text": [
      "[[1]\n",
      " [2]\n",
      " [3]]\n"
     ]
    }
   ],
   "source": [
    "class GradientDescent:\n",
    "    def __check_param(self):\n",
    "        if not isinstance(self.x, np.ndarray) or len(self.x.shape) != 2:\n",
    "            raise TypeError('param x should be a 2d numpy array.')\n",
    "        if not isinstance(self.y, np.ndarray) or len(self.y.shape) != 1:\n",
    "            raise TypeError('param y should be a 1d numpy array.')\n",
    "        if self.x.shape[0] != self.y.shape[0]:\n",
    "            raise ValueError('x y should have the same rows N.')\n",
    "            \n",
    "    def feed(self, x, y):\n",
    "        \"\"\"\n",
    "        Example of data:\n",
    "                | 1.0 -0.5 |      | 3.7 |\n",
    "            x = | 2.0  4.2 |  y = | 2.5 |\n",
    "                | 3.0  6.4 |      | 7.6 |\n",
    "            (Here x is N*p matrix, y is N dimension array.)\n",
    "        \"\"\"\n",
    "        self.x = x\n",
    "        self.y = y\n",
    "        self.__check_param()\n",
    "        self.param = [0] * (self.x.shape[1]+1)\n",
    "    \n",
    "    def learn(self, alpha=0.0005):\n",
    "        \n",
    "        \n",
    "\n",
    "a = np.array([[1, 2, 3]]).reshape(-1, 1)\n",
    "b = np.array([4, 5, 6])\n",
    "gd = GradientDescent()\n",
    "gd.feed(a, b)"
   ]
  },
  {
   "cell_type": "code",
   "execution_count": null,
   "metadata": {},
   "outputs": [],
   "source": []
  }
 ],
 "metadata": {
  "kernelspec": {
   "display_name": "Python 3",
   "language": "python",
   "name": "python3"
  },
  "language_info": {
   "codemirror_mode": {
    "name": "ipython",
    "version": 3
   },
   "file_extension": ".py",
   "mimetype": "text/x-python",
   "name": "python",
   "nbconvert_exporter": "python",
   "pygments_lexer": "ipython3",
   "version": "3.5.2"
  }
 },
 "nbformat": 4,
 "nbformat_minor": 2
}
